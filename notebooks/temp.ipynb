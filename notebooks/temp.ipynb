{
 "cells": [
  {
   "cell_type": "code",
   "execution_count": 1,
   "metadata": {},
   "outputs": [],
   "source": [
    "# Import Gradio\n",
    "import gradio as gr\n",
    "import pickle\n",
    "\n",
    "# Import the required dependencies from sklearn\n",
    "from sklearn.pipeline import Pipeline\n"
   ]
  },
  {
   "cell_type": "code",
   "execution_count": 3,
   "metadata": {},
   "outputs": [],
   "source": [
    "# Load the text classification model pipeline\n",
    "with open('../sms_text_clf_model.pkl', 'rb') as file:\n",
    "    clf: Pipeline = pickle.load(file)"
   ]
  },
  {
   "cell_type": "code",
   "execution_count": 4,
   "metadata": {},
   "outputs": [],
   "source": [
    "# Define the sms_prediction function\n",
    "def sms_prediction(text: str) -> tuple[str, bool]:\n",
    "    \"\"\"\n",
    "    Predict the spam/ham classification of a given text message using a pre-trained model.\n",
    "\n",
    "    Parameters:\n",
    "    - text (str): The text message to be classified.\n",
    "\n",
    "    Returns: a tuple of the following:\n",
    "    - str: A message indicating whether the text message is classified as spam or not.\n",
    "    - bool: A boolean value indicating whether the text message is classified as spam or not.\n",
    "\n",
    "    This function takes a text message and a pre-trained pipeline model, then predicts the\n",
    "    spam/ham classification of the text. The result is a message stating whether the text is\n",
    "    classified as spam or not.\n",
    "    \"\"\"\n",
    "    # Create a variable that will hold the prediction of a new text.\n",
    "    prediction = clf.predict([text])\n",
    "    \n",
    "    # Using a conditional if the prediction is \"ham\" return the message:\n",
    "    # f'The text message: \"{text}\", is not spam.' Else, return f'The text message: \"{text}\", is spam.'\n",
    "    if prediction == 'ham':\n",
    "        return (f'The text message: \"{text}\"\\n, is not spam.', False)\n",
    "    else:\n",
    "        return (f'The text message: \"{text}\"\\n, is spam.', True)"
   ]
  },
  {
   "cell_type": "code",
   "execution_count": 5,
   "metadata": {},
   "outputs": [
    {
     "data": {
      "text/plain": [
       "('The text message: \"Free entry in 2 a wkly comp to win FA Cup final tkts 21st May 2000. Text FA to 87121 to receive entry question(std txt rate)T&C\\'s apply 08452810075over18s\"\\n, is spam.',\n",
       " True)"
      ]
     },
     "execution_count": 5,
     "metadata": {},
     "output_type": "execute_result"
    }
   ],
   "source": [
    "# Test the sms_prediction function\n",
    "sms_prediction(\"Free entry in 2 a wkly comp to win FA Cup final tkts 21st May 2000. Text FA to 87121 to receive entry question(std txt rate)T&C's apply 08452810075over18s\")"
   ]
  },
  {
   "cell_type": "code",
   "execution_count": 6,
   "metadata": {},
   "outputs": [
    {
     "name": "stdout",
     "output_type": "stream",
     "text": [
      "* Running on local URL:  http://127.0.0.1:7872\n",
      "* Running on public URL: https://967d06ee7319e024c6.gradio.live\n",
      "\n",
      "This share link expires in 72 hours. For free permanent hosting and GPU upgrades, run `gradio deploy` from the terminal in the working directory to deploy to Hugging Face Spaces (https://huggingface.co/spaces)\n"
     ]
    },
    {
     "data": {
      "text/html": [
       "<div><iframe src=\"https://967d06ee7319e024c6.gradio.live\" width=\"100%\" height=\"500\" allow=\"autoplay; camera; microphone; clipboard-read; clipboard-write;\" frameborder=\"0\" allowfullscreen></iframe></div>"
      ],
      "text/plain": [
       "<IPython.core.display.HTML object>"
      ]
     },
     "metadata": {},
     "output_type": "display_data"
    },
    {
     "data": {
      "text/plain": []
     },
     "execution_count": 6,
     "metadata": {},
     "output_type": "execute_result"
    }
   ],
   "source": [
    "# Create an sms_app that takes a textbox for the inputs and has a textbox for the output.  \n",
    "# Povide labels for each textbox. \n",
    "sms_app = gr.Interface(\n",
    "    sms_prediction,\n",
    "    [\n",
    "        gr.Textbox(\n",
    "            label=\"What is the SMS Text message you want to test?\", \n",
    "            placeholder=\"Enter text here...\"\n",
    "        ),\n",
    "    ],\n",
    "    [\n",
    "        gr.Textbox(\n",
    "            label=\"The app has determined that: \",\n",
    "            placeholder=\"Prediction will show here...\"\n",
    "        ),\n",
    "        gr.Checkbox(\n",
    "            label=\"Spam?\",\n",
    "            value=False\n",
    "        )\n",
    "    ],\n",
    "    title=\"SMS Text Spam Detector\",\n",
    "    description=\"Enter an SMS text message and our app will determine if it is spam or not\",\n",
    "    examples=[\n",
    "        \"You are a lucky winner of $5000!\",\n",
    "        \"You won 2 free tickets to the Super Bowl.\",\n",
    "        \"You won 2 free tickets to the Super Bowl. Text us to claim your prize.\",\n",
    "        \"Thanks for registering. Text 4343 to receive free updates on medicare.\",\n",
    "        \"Free entry in 2 a wkly comp to win FA Cup final tkts 21st May 2000. Text FA to 87121 to receive entry.\",\n",
    "    ],\n",
    ")\n",
    "\n",
    "# Launch the app.\n",
    "sms_app.launch(share=True)"
   ]
  },
  {
   "cell_type": "markdown",
   "metadata": {},
   "source": [
    "## Test the following text messages. \n",
    "\n",
    "---\n",
    "\n",
    "1. You are a lucky winner of $5000!\n",
    "2. You won 2 free tickets to the Super Bowl.\n",
    "3. You won 2 free tickets to the Super Bowl text us to claim your prize.\n",
    "4. Thanks for registering. Text 4343 to receive free updates on medicare."
   ]
  },
  {
   "cell_type": "code",
   "execution_count": null,
   "metadata": {},
   "outputs": [],
   "source": []
  }
 ],
 "metadata": {
  "kernelspec": {
   "display_name": "base",
   "language": "python",
   "name": "python3"
  },
  "language_info": {
   "codemirror_mode": {
    "name": "ipython",
    "version": 3
   },
   "file_extension": ".py",
   "mimetype": "text/x-python",
   "name": "python",
   "nbconvert_exporter": "python",
   "pygments_lexer": "ipython3",
   "version": "3.11.10"
  }
 },
 "nbformat": 4,
 "nbformat_minor": 2
}
